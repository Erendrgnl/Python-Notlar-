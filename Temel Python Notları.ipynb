{
 "cells": [
  {
   "cell_type": "markdown",
   "metadata": {},
   "source": [
    "# Python Notları"
   ]
  },
  {
   "cell_type": "markdown",
   "metadata": {},
   "source": [
    "### Map Fonksiyonu"
   ]
  },
  {
   "cell_type": "code",
   "execution_count": 9,
   "metadata": {},
   "outputs": [
    {
     "name": "stdout",
     "output_type": "stream",
     "text": [
      "[1, 4, 27, 256, 3125, 46656, 823543, 16777216, 387420489, 10000000000]\n"
     ]
    }
   ],
   "source": [
    "l=[1,2,3,4,5,6,7,8,9,10]\n",
    "def func(x):\n",
    "    return x**x\n",
    "newlist=[]\n",
    "\n",
    "for x in l:\n",
    "    newlist.append(func(x))\n",
    "    \n",
    "print(newlist)"
   ]
  },
  {
   "cell_type": "markdown",
   "metadata": {},
   "source": [
    "Map fonksiyonu parametre olarak bir fonksiyon ve liste alır. Fonksiyonu listenin her bir elemanı için çalıştırır. Yukarıdaki kodu tek bir satırla ifade etmemize yarar."
   ]
  },
  {
   "cell_type": "code",
   "execution_count": 1,
   "metadata": {},
   "outputs": [
    {
     "name": "stdout",
     "output_type": "stream",
     "text": [
      "<class 'map'>\n"
     ]
    }
   ],
   "source": [
    "l=[1,2,3,4,5,6,7,8,9,10]\n",
    "def func(x):\n",
    "    return x**x\n",
    "print(type(map(func,l)))"
   ]
  },
  {
   "cell_type": "code",
   "execution_count": 3,
   "metadata": {},
   "outputs": [
    {
     "name": "stdout",
     "output_type": "stream",
     "text": [
      "[1, 4, 27, 256, 3125, 46656, 823543, 16777216, 387420489, 10000000000]\n"
     ]
    }
   ],
   "source": [
    "print(list(map(func,l)))"
   ]
  },
  {
   "cell_type": "markdown",
   "metadata": {},
   "source": [
    "Kodlarda bu işlemi çoğunlukla böyle yazılmaktadır [(ifade) for x in list]. Bu yapı oldukça kullanışlı yazılım kolaylığı sunuyor."
   ]
  },
  {
   "cell_type": "code",
   "execution_count": 6,
   "metadata": {},
   "outputs": [
    {
     "name": "stdout",
     "output_type": "stream",
     "text": [
      "[1, 4, 27, 256, 3125, 46656, 823543, 16777216, 387420489, 10000000000]\n"
     ]
    }
   ],
   "source": [
    "print([func(x) for x in l])"
   ]
  },
  {
   "cell_type": "markdown",
   "metadata": {},
   "source": [
    "for ifadesi bir if koşulu ile de desteklenebilmektedir."
   ]
  },
  {
   "cell_type": "code",
   "execution_count": 7,
   "metadata": {},
   "outputs": [
    {
     "name": "stdout",
     "output_type": "stream",
     "text": [
      "[4, 256, 46656, 16777216, 10000000000]\n"
     ]
    }
   ],
   "source": [
    "print([func(x) for x in l if x%2==0])"
   ]
  },
  {
   "cell_type": "markdown",
   "metadata": {},
   "source": [
    "### Filter Fonksiyonu "
   ]
  },
  {
   "cell_type": "markdown",
   "metadata": {},
   "source": [
    "Filter fonksiyonu parametre olaran bir fonksiyon ve liste alır. Listenin her elemanı için bu fonksiyonun ürettiği boolean değere göre listeyi yeniden oluşturur."
   ]
  },
  {
   "cell_type": "code",
   "execution_count": 10,
   "metadata": {},
   "outputs": [
    {
     "name": "stdout",
     "output_type": "stream",
     "text": [
      "[1, 2, 3, 4, 5, 6, 7, 8, 9, 10]\n",
      "[1, 3, 5, 7, 9]\n"
     ]
    }
   ],
   "source": [
    "def add7(x):\n",
    "    return x+7\n",
    "\n",
    "def isOdd(x):\n",
    "    return x%2 != 0\n",
    "\n",
    "a=[1,2,3,4,5,6,7,8,9,10]\n",
    "\n",
    "b=list(filter(isOdd,a))\n",
    "print(a)\n",
    "print(b)"
   ]
  },
  {
   "cell_type": "markdown",
   "metadata": {},
   "source": [
    "Pekiştirmek için işin içine map fonksiyonunu da dahil edelim."
   ]
  },
  {
   "cell_type": "code",
   "execution_count": 11,
   "metadata": {},
   "outputs": [
    {
     "name": "stdout",
     "output_type": "stream",
     "text": [
      "[8, 10, 12, 14, 16]\n"
     ]
    }
   ],
   "source": [
    "c = list(map(add7,b))\n",
    "print(c)"
   ]
  },
  {
   "cell_type": "markdown",
   "metadata": {},
   "source": [
    "Daha kısa bir gösterimle"
   ]
  },
  {
   "cell_type": "code",
   "execution_count": 16,
   "metadata": {},
   "outputs": [
    {
     "name": "stdout",
     "output_type": "stream",
     "text": [
      "[8, 10, 12, 14, 16]\n"
     ]
    }
   ],
   "source": [
    "c = [add7(x) for x in filter(isOdd,a)]\n",
    "print(c)"
   ]
  },
  {
   "cell_type": "markdown",
   "metadata": {},
   "source": [
    "### Numpy Array için Boolean İfadesi"
   ]
  },
  {
   "cell_type": "markdown",
   "metadata": {},
   "source": [
    "Filtre metoduna ek olarak numpy'da matris işlemleri yaparken değerleri boolean ifade sonucuna göre değiştirmek için aşağıdaki ifade kullanılabilir."
   ]
  },
  {
   "cell_type": "code",
   "execution_count": 28,
   "metadata": {},
   "outputs": [
    {
     "name": "stdout",
     "output_type": "stream",
     "text": [
      "[ 1  2  3  4  5  6  7  8  9 10]\n",
      "<class 'numpy.ndarray'>\n"
     ]
    }
   ],
   "source": [
    "import numpy as np\n",
    "\n",
    "npA = np.asarray(a)\n",
    "print(npA)\n",
    "print(type(npA))\n",
    "\n"
   ]
  },
  {
   "cell_type": "code",
   "execution_count": 31,
   "metadata": {},
   "outputs": [
    {
     "name": "stdout",
     "output_type": "stream",
     "text": [
      "[1 2 3 4 5 0 0 0 0 0]\n",
      "[3 4 5 6 7]\n"
     ]
    }
   ],
   "source": [
    "npA = np.asarray(a)\n",
    "npA[npA>5]=0\n",
    "print(npA)\n",
    "\n",
    "npA = np.asarray(a)\n",
    "npA=npA[(npA>2) & (npA<8)]\n",
    "print(npA)"
   ]
  },
  {
   "cell_type": "markdown",
   "metadata": {},
   "source": [
    "### Lambda Fonksiyonu"
   ]
  },
  {
   "cell_type": "markdown",
   "metadata": {},
   "source": [
    "Lambda ifadeleri fonksiyonlarımızı oluşturmak için Pythonda bulunan pratik bir yöntemdir ve gerektiği yerlerde bu ifadeleri kullanabiliriz."
   ]
  },
  {
   "cell_type": "code",
   "execution_count": 34,
   "metadata": {},
   "outputs": [
    {
     "name": "stdout",
     "output_type": "stream",
     "text": [
      "7\n"
     ]
    }
   ],
   "source": [
    "def func(x):\n",
    "    return x+5\n",
    "    \n",
    "print(func(2))"
   ]
  },
  {
   "cell_type": "code",
   "execution_count": 35,
   "metadata": {},
   "outputs": [
    {
     "name": "stdout",
     "output_type": "stream",
     "text": [
      "7\n"
     ]
    }
   ],
   "source": [
    "func = lambda x:x+5\n",
    "print(func(2))"
   ]
  },
  {
   "cell_type": "markdown",
   "metadata": {},
   "source": [
    "Lambda birden fazla değişken ile de kullanılabilir. Aynı zamanda opsiyonel parametreler ile de kullanılabilir ve fonksiyon içinde tanımlanabilir"
   ]
  },
  {
   "cell_type": "code",
   "execution_count": 36,
   "metadata": {},
   "outputs": [
    {
     "name": "stdout",
     "output_type": "stream",
     "text": [
      "8\n"
     ]
    }
   ],
   "source": [
    "func2 = lambda x,y:x+y\n",
    "print(func2(3,5))"
   ]
  },
  {
   "cell_type": "code",
   "execution_count": 41,
   "metadata": {},
   "outputs": [
    {
     "name": "stdout",
     "output_type": "stream",
     "text": [
      "12\n"
     ]
    }
   ],
   "source": [
    "func3 = lambda a,b=1: (a+1)*((b+1)**2)\n",
    "print(func3(2,1))   #3*4"
   ]
  },
  {
   "cell_type": "code",
   "execution_count": 58,
   "metadata": {},
   "outputs": [
    {
     "name": "stdout",
     "output_type": "stream",
     "text": [
      "4\n",
      "4\n"
     ]
    }
   ],
   "source": [
    "def fonk(x):\n",
    "    def fonk2(y):\n",
    "        return y+2\n",
    "    return fonk2(x)\n",
    "\n",
    "print(fonk(2))\n",
    "\n",
    "def fonk(x):\n",
    "    fonk2 = lambda x:x+2\n",
    "    return fonk2(x)\n",
    "print(fonk(2))"
   ]
  },
  {
   "cell_type": "markdown",
   "metadata": {},
   "source": [
    "Lambda filter ve map fonksiyonları ile kullanışlıdır."
   ]
  },
  {
   "cell_type": "code",
   "execution_count": 52,
   "metadata": {},
   "outputs": [
    {
     "name": "stdout",
     "output_type": "stream",
     "text": [
      "[1, 4, 9, 16, 25, 36, 49, 64, 81, 100]\n",
      "[2, 4, 6, 8, 10]\n"
     ]
    }
   ],
   "source": [
    "a=[1,2,3,4,5,6,7,8,9,10]\n",
    "print(list(map(lambda x:x**2, a)))\n",
    "print(list(filter(lambda x:x%2==0, a)))"
   ]
  },
  {
   "cell_type": "markdown",
   "metadata": {},
   "source": [
    "Lambda geriye bir fonksiyon nesnesi döndürmektedir. Bu fonksiyonun return ile döndürülen parametre ile karıştırılmamalıdır."
   ]
  },
  {
   "cell_type": "code",
   "execution_count": 53,
   "metadata": {},
   "outputs": [
    {
     "name": "stdout",
     "output_type": "stream",
     "text": [
      "[<function <listcomp>.<lambda> at 0x0000015BDD18A840>, <function <listcomp>.<lambda> at 0x0000015BDD18A598>, <function <listcomp>.<lambda> at 0x0000015BDD18A620>, <function <listcomp>.<lambda> at 0x0000015BDD18A7B8>, <function <listcomp>.<lambda> at 0x0000015BDD18A0D0>, <function <listcomp>.<lambda> at 0x0000015BDD18A510>, <function <listcomp>.<lambda> at 0x0000015BDD18A400>, <function <listcomp>.<lambda> at 0x0000015BDC5052F0>, <function <listcomp>.<lambda> at 0x0000015BDC505A60>, <function <listcomp>.<lambda> at 0x0000015BDC505E18>]\n"
     ]
    }
   ],
   "source": [
    "print([lambda x:x**2 for i in a]) # Lambda fonksiyon döndürdüğü için fonksiyon nesnesi bastırılmış olur"
   ]
  },
  {
   "cell_type": "code",
   "execution_count": 56,
   "metadata": {},
   "outputs": [
    {
     "name": "stdout",
     "output_type": "stream",
     "text": [
      "[1, 4, 9, 16, 25, 36, 49, 64, 81, 100]\n"
     ]
    }
   ],
   "source": [
    "print([x**2 for x in a]) # Kullanılması gereken notasyon bu şekildedir"
   ]
  },
  {
   "cell_type": "markdown",
   "metadata": {},
   "source": [
    "### *args ve **kwargs"
   ]
  },
  {
   "cell_type": "markdown",
   "metadata": {},
   "source": [
    "Fonksiyonlarımızı tanımlarken, bazı durumlarda pratikte sınırsız (aslında 256 parametre) parametre vermek isteyebiliriz. Bu durumlarda bazı özel işaretleri parametremizden önce kullanmamız gerekir.\n",
    "\n",
    "*args\n",
    "Sınırsız sayıda parametreli fonksiyon oluşturmak için parametremizin önüne tek yıldız (*) koyabiliriz."
   ]
  },
  {
   "cell_type": "code",
   "execution_count": 15,
   "metadata": {},
   "outputs": [
    {
     "name": "stdout",
     "output_type": "stream",
     "text": [
      "(1, 2, 3, 4)\n",
      "(15, 'burak')\n",
      "[10, 2.5, 'burak', True]\n"
     ]
    }
   ],
   "source": [
    "def rakamlari_goster(*rakamlar):\n",
    "    print(rakamlar)\n",
    " \n",
    "rakamlari_goster(1,2,3,4)\n",
    "rakamlari_goster(15,'burak')\n",
    "\n",
    "def fonksiyon(*args):\n",
    " \n",
    "    for i in args:\n",
    "        print(i)\n",
    " \n",
    "liste = [10, 2.5, 'burak', True]\n",
    " \n",
    "fonksiyon(liste)\n",
    " "
   ]
  },
  {
   "cell_type": "markdown",
   "metadata": {},
   "source": [
    "**kwargs\n",
    "Çift yıldızlı (**) parametrelerin tek yıldızlı (*) parametrelerden en önemli farkı, fonksiyonu çağırırken anahtar değer ilişkisiyle çağırabilmemizdir. Burada, fonksiyon parametresinden önce çift yıldız(**) kullandığımız için sonucumuz sözlük (dictionary) olarak döner."
   ]
  },
  {
   "cell_type": "code",
   "execution_count": 16,
   "metadata": {},
   "outputs": [
    {
     "name": "stdout",
     "output_type": "stream",
     "text": [
      "{'değer1': 'Burak', 'deger2': 20}\n",
      "{'değer1': 'Burak', 'deger2': 20, 'deger3': True, 'deger4': 15.2}\n"
     ]
    }
   ],
   "source": [
    "def fonksiyon1(**parametre):\n",
    "    print(parametre)\n",
    " \n",
    "fonksiyon1(değer1='Burak', deger2 =20)\n",
    "fonksiyon1(değer1='Burak', deger2 =20,deger3 = True,deger4= 15.2)"
   ]
  },
  {
   "cell_type": "code",
   "execution_count": 17,
   "metadata": {},
   "outputs": [
    {
     "name": "stdout",
     "output_type": "stream",
     "text": [
      "1\n",
      "2\n",
      "3\n",
      "args\n",
      "anahtar:  deger Degerimiz:  kwargs\n"
     ]
    }
   ],
   "source": [
    "def fonksiyon(*args,**kwargs):\n",
    "    for i in args:\n",
    "        print(i)\n",
    "    for k,v in kwargs.items():\n",
    "        print('anahtar: ',k,'Degerimiz: ',v)\n",
    " \n",
    "fonksiyon(1,2,3,'args' , deger = 'kwargs')"
   ]
  },
  {
   "cell_type": "markdown",
   "metadata": {},
   "source": [
    "### Decorators"
   ]
  },
  {
   "cell_type": "markdown",
   "metadata": {},
   "source": [
    "Python'da fonksiyonlar da birer obje oldukları için fonksiyon içerisinde geri döndürülebilir."
   ]
  },
  {
   "cell_type": "code",
   "execution_count": 1,
   "metadata": {},
   "outputs": [],
   "source": [
    "def func(string):\n",
    "    def wrapper():\n",
    "        print(\"Hey\")\n",
    "        print(string)\n",
    "        print(\"End\")\n",
    "    return wrapper\n",
    "\n",
    "x=func(\"Hello\")"
   ]
  },
  {
   "cell_type": "code",
   "execution_count": 2,
   "metadata": {},
   "outputs": [
    {
     "name": "stdout",
     "output_type": "stream",
     "text": [
      "<function func.<locals>.wrapper at 0x000002280808F2F0>\n"
     ]
    }
   ],
   "source": [
    "print(x)"
   ]
  },
  {
   "cell_type": "code",
   "execution_count": 3,
   "metadata": {},
   "outputs": [
    {
     "name": "stdout",
     "output_type": "stream",
     "text": [
      "Hey\n",
      "Hello\n",
      "End\n"
     ]
    }
   ],
   "source": [
    "x()"
   ]
  },
  {
   "cell_type": "code",
   "execution_count": 4,
   "metadata": {},
   "outputs": [],
   "source": [
    "def func(f):\n",
    "    def wrapper():\n",
    "        print(\"Hey\")\n",
    "        f()\n",
    "        print(\"End\")\n",
    "    return wrapper\n",
    "\n",
    "def func2():\n",
    "    print(\"I am func2\")\n",
    "    \n",
    "x=func(func2)"
   ]
  },
  {
   "cell_type": "code",
   "execution_count": 5,
   "metadata": {},
   "outputs": [
    {
     "name": "stdout",
     "output_type": "stream",
     "text": [
      "<function func.<locals>.wrapper at 0x000002280808F8C8>\n",
      "Hey\n",
      "I am func2\n",
      "End\n"
     ]
    }
   ],
   "source": [
    "print(x)\n",
    "x()"
   ]
  },
  {
   "cell_type": "markdown",
   "metadata": {},
   "source": [
    "Decorators yukarıdaki notasyonu kolaylaştıran bir yapıdır. "
   ]
  },
  {
   "cell_type": "code",
   "execution_count": 9,
   "metadata": {},
   "outputs": [
    {
     "name": "stdout",
     "output_type": "stream",
     "text": [
      "Hey\n",
      "Hi I'am func2\n",
      "End\n"
     ]
    }
   ],
   "source": [
    "def func(f):\n",
    "    def My_wrapper():\n",
    "        print(\"Hey\")\n",
    "        f()\n",
    "        print(\"End\")\n",
    "    return My_wrapper\n",
    "\n",
    "@func\n",
    "def func2():\n",
    "    print(\"Hi I'am func2\")\n",
    "    \n",
    "func2()"
   ]
  },
  {
   "cell_type": "code",
   "execution_count": 11,
   "metadata": {},
   "outputs": [
    {
     "ename": "NameError",
     "evalue": "name 'test' is not defined",
     "output_type": "error",
     "traceback": [
      "\u001b[1;31m---------------------------------------------------------------------------\u001b[0m",
      "\u001b[1;31mNameError\u001b[0m                                 Traceback (most recent call last)",
      "\u001b[1;32m<ipython-input-11-1fee71129389>\u001b[0m in \u001b[0;36m<module>\u001b[1;34m\u001b[0m\n\u001b[1;32m----> 1\u001b[1;33m \u001b[1;33m@\u001b[0m\u001b[0mtest\u001b[0m\u001b[1;33m\u001b[0m\u001b[1;33m\u001b[0m\u001b[0m\n\u001b[0m\u001b[0;32m      2\u001b[0m \u001b[1;32mdef\u001b[0m \u001b[0mfunc3\u001b[0m\u001b[1;33m(\u001b[0m\u001b[1;33m)\u001b[0m\u001b[1;33m:\u001b[0m\u001b[1;33m\u001b[0m\u001b[1;33m\u001b[0m\u001b[0m\n\u001b[0;32m      3\u001b[0m     \u001b[0mprint\u001b[0m\u001b[1;33m(\u001b[0m\u001b[1;34m\"Hi I'am func3\"\u001b[0m\u001b[1;33m)\u001b[0m\u001b[1;33m\u001b[0m\u001b[1;33m\u001b[0m\u001b[0m\n\u001b[0;32m      4\u001b[0m \u001b[1;33m\u001b[0m\u001b[0m\n\u001b[0;32m      5\u001b[0m \u001b[0mfunc3\u001b[0m\u001b[1;33m(\u001b[0m\u001b[1;33m)\u001b[0m\u001b[1;33m\u001b[0m\u001b[1;33m\u001b[0m\u001b[0m\n",
      "\u001b[1;31mNameError\u001b[0m: name 'test' is not defined"
     ]
    }
   ],
   "source": [
    "@test\n",
    "def func3():\n",
    "    print(\"Hi I'am func3\")\n",
    "    \n",
    "func3()"
   ]
  },
  {
   "cell_type": "markdown",
   "metadata": {},
   "source": [
    "farklı girdi sayısına sahip fonksiyonları çalıştırmak için decorator fonksyionda * args ** kwargs yapısı kullanılır"
   ]
  },
  {
   "cell_type": "code",
   "execution_count": 20,
   "metadata": {},
   "outputs": [
    {
     "name": "stdout",
     "output_type": "stream",
     "text": [
      "started\n",
      "3\n",
      "Ended\n",
      "4\n",
      "started\n",
      "5\n",
      "Ended\n",
      "6\n"
     ]
    }
   ],
   "source": [
    "def myFunc(f):\n",
    "    def inner_func(*args, **kwargs):\n",
    "        print(\"started\")\n",
    "        rv = f(*args, **kwargs)\n",
    "        print(\"Ended\")\n",
    "        return rv\n",
    "    return inner_func\n",
    "\n",
    "@myFunc\n",
    "def func2(x,y):\n",
    "    print(x)\n",
    "    return y\n",
    "\n",
    "@myFunc\n",
    "def func3(x,y):\n",
    "    print(x)\n",
    "    return y\n",
    "\n",
    "val = func2(3,4)\n",
    "print(val)\n",
    "\n",
    "val = func3(5,6)\n",
    "print(val)\n"
   ]
  },
  {
   "cell_type": "markdown",
   "metadata": {},
   "source": [
    "Decorators işlevsel kullanıma örnek olarak aşağıdaki kod parçası incelenebilir. Timer'a gönderilen fonksiyonun işlenme süresini ekrana yazdırmaktadır."
   ]
  },
  {
   "cell_type": "code",
   "execution_count": 24,
   "metadata": {},
   "outputs": [
    {
     "name": "stdout",
     "output_type": "stream",
     "text": [
      "Time:  0.0020101070404052734\n",
      "Time:  1.6106765270233154\n",
      "Time:  2.0006182193756104\n"
     ]
    }
   ],
   "source": [
    "import time\n",
    "\n",
    "def timer(f):\n",
    "    def wrapper(*args, **kwargs):\n",
    "        s=time.time()\n",
    "        rv = f(*args, **kwargs)\n",
    "        total_time= time.time() - s\n",
    "        print(\"Time: \",total_time)\n",
    "        return rv\n",
    "    return wrapper\n",
    "\n",
    "@timer\n",
    "def delay(x):\n",
    "    for i in range(0,x):\n",
    "        pass\n",
    "    \n",
    "@timer\n",
    "def sleep(x):\n",
    "    time.sleep(x)\n",
    "    \n",
    "delay(100000)\n",
    "delay(100000000)\n",
    "sleep(2)"
   ]
  },
  {
   "cell_type": "markdown",
   "metadata": {},
   "source": [
    "### Generators"
   ]
  },
  {
   "cell_type": "markdown",
   "metadata": {},
   "source": [
    "Generatörler de iteratörler gibi __next__() fonksiyonuna sahiptir ve bu sayede iterasyon işlemine tabi tutulabilirler.\n",
    "Generatörlerin iteratörlerden farkı ise lazy evaluation yapmalarıdır. Bir objeyi itere etmek istediğinizde liste elemanları ile birlikte itere edilmeye hazırdır ve sırası ile bu elemanları çağırarak işlem yapmaya başlarsınız. Generatörlerde elinizde iterasyona tabi tutacağınız elemanlar halihazırda mevcut değildir, siz bir sonrakini çağırdığınız zaman üretilir ve size sunulur. Bu ne işimize yarayacak derseniz, yapacağınız işlem için bir listenin tüm elemanlarına ihtiyacınız yoksa veya ne kadarını kullanacağınızı bilmiyorsanız boşu boşuna listenin hepsini oluşturup memory’yi şişirmek yerine generatör kullanarak ihtiyaç duydukça/çağırdıkça elemanların üretilmesini sağlayıp fazla memory kullanımının önüne geçebilirsiniz.\n",
    "\n",
    "kaynak: https://medium.com/python-yaz-lar/python-generator-ve-i-teratorler-a53e59f7c5b1"
   ]
  },
  {
   "cell_type": "code",
   "execution_count": 25,
   "metadata": {},
   "outputs": [],
   "source": [
    "# x = [i**2 for i in range(100000000000)]\n",
    "#Bu kod çalıştığında memory hatası alırız çünkü 100000000000 tane sayının karesini depolayacak memory olmadığından python bize\n",
    "#böyle bir hata döndürür"
   ]
  },
  {
   "cell_type": "markdown",
   "metadata": {},
   "source": [
    "Generatorlar iterasyon işlemine tutulabilirler ama yanlızca ilgili index ile işlem yaparlar. Diğer değerler herhangi bir şekilde depolanmaz bu da bellek kullanımını oldukça azaltan faktördür"
   ]
  },
  {
   "cell_type": "code",
   "execution_count": 26,
   "metadata": {},
   "outputs": [
    {
     "name": "stdout",
     "output_type": "stream",
     "text": [
      "0\n",
      "1\n",
      "4\n",
      "9\n",
      "16\n",
      "25\n",
      "36\n",
      "49\n",
      "64\n",
      "81\n"
     ]
    }
   ],
   "source": [
    "def gen(n):\n",
    "    for i  in range(n):\n",
    "        yield i**2\n",
    "        \n",
    "g = gen(10) #Şişme olmaması için az sayıda değer bastırıyorum ama sonsuz değer girsek de bellek taşması meydana gelmez!\n",
    "\n",
    "for i in g:\n",
    "    print(i)"
   ]
  },
  {
   "cell_type": "code",
   "execution_count": 28,
   "metadata": {},
   "outputs": [
    {
     "name": "stdout",
     "output_type": "stream",
     "text": [
      "0\n",
      "1\n",
      "4\n",
      "9\n"
     ]
    }
   ],
   "source": [
    "g = gen(1000)\n",
    "print(next(g))\n",
    "print(next(g))\n",
    "print(next(g))\n",
    "print(next(g))"
   ]
  },
  {
   "cell_type": "code",
   "execution_count": 29,
   "metadata": {},
   "outputs": [
    {
     "name": "stdout",
     "output_type": "stream",
     "text": [
      "10\n",
      "100\n",
      "1000\n",
      "10000\n"
     ]
    }
   ],
   "source": [
    "def gen():\n",
    "    yield 10\n",
    "    yield 100\n",
    "    yield 1000\n",
    "    yield 10000\n",
    "    \n",
    "g = gen()\n",
    "print(next(g))\n",
    "print(next(g))\n",
    "print(next(g))\n",
    "print(next(g))"
   ]
  },
  {
   "cell_type": "markdown",
   "metadata": {},
   "source": [
    "Generatorslar ile kazanılan bellek durumunu kontrol edelim"
   ]
  },
  {
   "cell_type": "code",
   "execution_count": 32,
   "metadata": {},
   "outputs": [
    {
     "name": "stdout",
     "output_type": "stream",
     "text": [
      "<class 'list'>\n",
      "<class 'generator'>\n",
      "87624\n",
      "120\n"
     ]
    }
   ],
   "source": [
    "import sys\n",
    "\n",
    "x = [i**2 for i in range(10000)] \n",
    "g = (i**2 for i in range(10000)) #Generator kısa gösterimi\n",
    "\n",
    "print(type(x))\n",
    "print(type(g))\n",
    "\n",
    "print(sys.getsizeof(x))\n",
    "print(sys.getsizeof(g))"
   ]
  },
  {
   "cell_type": "markdown",
   "metadata": {},
   "source": [
    "Notların bir çoğu https://www.youtube.com/c/TechWithTim Tech with Tim youtube kanalındaki intermediate expert python oynatma listesinden alınmıştır. Daha fazla bilgi için bu kanalı ziyaret etmenizi tavsiye ederim"
   ]
  },
  {
   "cell_type": "code",
   "execution_count": null,
   "metadata": {},
   "outputs": [],
   "source": []
  }
 ],
 "metadata": {
  "kernelspec": {
   "display_name": "Python 3",
   "language": "python",
   "name": "python3"
  },
  "language_info": {
   "codemirror_mode": {
    "name": "ipython",
    "version": 3
   },
   "file_extension": ".py",
   "mimetype": "text/x-python",
   "name": "python",
   "nbconvert_exporter": "python",
   "pygments_lexer": "ipython3",
   "version": "3.7.3"
  }
 },
 "nbformat": 4,
 "nbformat_minor": 2
}
